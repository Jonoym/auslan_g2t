{
 "cells": [
  {
   "cell_type": "code",
   "execution_count": null,
   "id": "d6d9b1f6",
   "metadata": {},
   "outputs": [],
   "source": [
    "### https://machinelearningmastery.com/develop-neural-machine-translation-system-keras/"
   ]
  },
  {
   "cell_type": "code",
   "execution_count": null,
   "id": "368bfa02",
   "metadata": {},
   "outputs": [],
   "source": [
    "import string\n",
    "import re\n",
    "from pickle import dump\n",
    "from unicodedata import normalize\n",
    "from numpy import array"
   ]
  },
  {
   "cell_type": "code",
   "execution_count": null,
   "id": "d42d4326",
   "metadata": {},
   "outputs": [],
   "source": [
    "### Helper Functions\n",
    "\n",
    "# Reads an entire Document and returns the document as a String\n",
    "def load_doc(filename):\n",
    "    \n",
    "    file = open(filename, mode=\"rt\", encoding=\"unicode_escape\")\n",
    "    text = file.read()\n",
    "    file.close()\n",
    "    return text\n",
    "\n",
    "# Converts a document into Pairs of sentences split by words\n",
    "def to_pairs(doc):\n",
    "    lines = doc.strip().split('\\n')\n",
    "    pairs = [line.split('\\t') for line in lines]\n",
    "    return pairs\n",
    "\n",
    "# Cleans the pairs of data and returns it in the same format\n",
    "def clean_pairs(lines):\n",
    "    cleaned_lines = []\n",
    "    \n",
    "    re_print = re.compile('[^%s]' % re.escape(string.printable))\n",
    "    \n",
    "    for pair in lines:\n",
    "        clean_pair = []\n",
    "        \n",
    "        for line in pair:\n",
    "            line = normalize('NFD', line).encode('ascii', 'ignore')\n",
    "            line = line.decode('UTF-8')\n",
    "#             print(line)\n",
    "            line = re.findall(r\"[\\w']+|[.,!?;:]\", line)\n",
    "            line = ' '.join(line).split()\n",
    "            line = [word.lower() for word in line]\n",
    "            line = [re_print.sub('', w) for w in line]\n",
    "            \n",
    "            clean_pair.append(' '.join(line))\n",
    "#             clean_pair.append(line)\n",
    "        cleaned_lines.append(clean_pair)\n",
    "    print(cleaned_lines)\n",
    "    return array(cleaned_lines)\n",
    "# clean a list of lines\n",
    "\n",
    "# Saves a cleaned version of the Dataset\n",
    "def save_clean_data(sentences, filename):\n",
    "    dump(sentences, open(filename, 'wb'))\n",
    "    print('Saved: %s' % filename)"
   ]
  },
  {
   "cell_type": "code",
   "execution_count": null,
   "id": "55582157",
   "metadata": {},
   "outputs": [],
   "source": [
    "filename = 'phoenix.txt'\n",
    "doc = load_doc(filename)\n",
    "pairs = to_pairs(doc)\n",
    "cleaned_pairs = clean_pairs(pairs)\n",
    "save_clean_data(cleaned_pairs, 'phoenix.pkl')"
   ]
  },
  {
   "cell_type": "code",
   "execution_count": null,
   "id": "6bfa602a",
   "metadata": {},
   "outputs": [],
   "source": []
  },
  {
   "cell_type": "code",
   "execution_count": null,
   "id": "b57906c9",
   "metadata": {},
   "outputs": [],
   "source": []
  }
 ],
 "metadata": {
  "kernelspec": {
   "display_name": "Python 3 (ipykernel)",
   "language": "python",
   "name": "python3"
  },
  "language_info": {
   "codemirror_mode": {
    "name": "ipython",
    "version": 3
   },
   "file_extension": ".py",
   "mimetype": "text/x-python",
   "name": "python",
   "nbconvert_exporter": "python",
   "pygments_lexer": "ipython3",
   "version": "3.9.7"
  }
 },
 "nbformat": 4,
 "nbformat_minor": 5
}
