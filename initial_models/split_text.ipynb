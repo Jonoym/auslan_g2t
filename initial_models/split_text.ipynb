{
 "cells": [
  {
   "cell_type": "code",
   "execution_count": null,
   "id": "6b131b4c",
   "metadata": {},
   "outputs": [],
   "source": [
    "### https://machinelearningmastery.com/develop-neural-machine-translation-system-keras/"
   ]
  },
  {
   "cell_type": "code",
   "execution_count": null,
   "id": "35fb1496",
   "metadata": {},
   "outputs": [],
   "source": [
    "from pickle import load\n",
    "from pickle import dump\n",
    "from numpy.random import rand\n",
    "from numpy.random import shuffle"
   ]
  },
  {
   "cell_type": "code",
   "execution_count": null,
   "id": "8c322c14",
   "metadata": {},
   "outputs": [],
   "source": [
    "### Helper Functions\n",
    "\n",
    "# Loads a cleaned version of the Dataset\n",
    "def load_clean_sentences(filename):\n",
    "    return load(open(filename, \"rb\"))\n",
    "\n",
    "# Saves a cleaned version of the Dataset\n",
    "def save_clean_data(sentences, filename):\n",
    "    dump(sentences, open(filename, 'wb'))\n",
    "    print('Saved: %s' % filename)"
   ]
  },
  {
   "cell_type": "code",
   "execution_count": null,
   "id": "d6241835",
   "metadata": {},
   "outputs": [],
   "source": [
    "def split_data(filename, split_ratio, proportion=1):\n",
    "    original_filename = filename.split('.')[0]\n",
    "    \n",
    "    raw_dataset = load_clean_sentences(filename)\n",
    "    n_sentences = int(proportion * len(raw_dataset))\n",
    "    dataset = raw_dataset[:n_sentences, :]\n",
    "    \n",
    "    partition = int(split_ratio * len(dataset))\n",
    "    shuffle(dataset)\n",
    "        \n",
    "    train, test = dataset[:partition], dataset[partition:]\n",
    "    \n",
    "    print(len(train))\n",
    "    print(len(test))\n",
    "\n",
    "    save_clean_data(dataset, original_filename + \"-both.pkl\")\n",
    "    save_clean_data(train, original_filename + \"-train.pkl\")\n",
    "    save_clean_data(test, original_filename + \"-test.pkl\")"
   ]
  },
  {
   "cell_type": "code",
   "execution_count": null,
   "id": "c4ee205e",
   "metadata": {},
   "outputs": [],
   "source": [
    "split_data(\"phoenix.pkl\", 0.9, 1)"
   ]
  },
  {
   "cell_type": "code",
   "execution_count": null,
   "id": "c4755534",
   "metadata": {},
   "outputs": [],
   "source": []
  }
 ],
 "metadata": {
  "kernelspec": {
   "display_name": "Python 3 (ipykernel)",
   "language": "python",
   "name": "python3"
  },
  "language_info": {
   "codemirror_mode": {
    "name": "ipython",
    "version": 3
   },
   "file_extension": ".py",
   "mimetype": "text/x-python",
   "name": "python",
   "nbconvert_exporter": "python",
   "pygments_lexer": "ipython3",
   "version": "3.9.7"
  }
 },
 "nbformat": 4,
 "nbformat_minor": 5
}
