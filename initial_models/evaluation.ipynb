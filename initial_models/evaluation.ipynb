{
 "cells": [
  {
   "cell_type": "code",
   "execution_count": 1,
   "id": "056caaea",
   "metadata": {},
   "outputs": [],
   "source": [
    "### https://machinelearningmastery.com/develop-neural-machine-translation-system-keras/"
   ]
  },
  {
   "cell_type": "code",
   "execution_count": 2,
   "id": "5606fac6",
   "metadata": {},
   "outputs": [],
   "source": [
    "from pickle import load\n",
    "from numpy import array\n",
    "from numpy import argmax\n",
    "from keras.preprocessing.text import Tokenizer\n",
    "from keras.preprocessing.sequence import pad_sequences\n",
    "from keras.models import load_model\n",
    "from nltk.translate.bleu_score import corpus_bleu"
   ]
  },
  {
   "cell_type": "code",
   "execution_count": 3,
   "id": "fb16957c",
   "metadata": {},
   "outputs": [],
   "source": [
    "# Helper Functions\n",
    "\n",
    "def load_clean_sentences(filename):\n",
    "    return load(open(filename, 'rb'))\n",
    "\n",
    "# Constructs the Tokenizer for each language in the Translation\n",
    "def create_tokenizer(lines):\n",
    "    tokenizer = Tokenizer()\n",
    "    tokenizer.fit_on_texts(lines)\n",
    "    return tokenizer\n",
    "\n",
    "# Determines the Longest Sentences contained in the Dataset\n",
    "def max_length(lines):\n",
    "    return max(len(line.split()) for line in lines)\n",
    "\n",
    "# Encodes and Pad word sequences to fill the maximum length\n",
    "def encode_sequences(tokenizer, length, lines):\n",
    "    X = tokenizer.texts_to_sequences(lines)\n",
    "    X = pad_sequences(X, maxlen=length, padding='post')\n",
    "    return X"
   ]
  },
  {
   "cell_type": "code",
   "execution_count": 4,
   "id": "84a12d3c",
   "metadata": {},
   "outputs": [],
   "source": [
    "# Filename before the train/test and filetype\n",
    "filename = \"phoenix\"\n",
    "\n",
    "dataset = load_clean_sentences(filename + '-both.pkl')\n",
    "train = load_clean_sentences(filename + '-train.pkl')\n",
    "test = load_clean_sentences(filename + '-test.pkl')\n",
    "\n",
    "# prepare english tokenizer\n",
    "eng_tokenizer = create_tokenizer(dataset[:, 0])\n",
    "eng_vocab_size = len(eng_tokenizer.word_index) + 1\n",
    "eng_length = max_length(dataset[:, 0])\n",
    "\n",
    "# prepare german tokenizer\n",
    "ger_tokenizer = create_tokenizer(dataset[:, 1])\n",
    "ger_vocab_size = len(ger_tokenizer.word_index) + 1\n",
    "ger_length = max_length(dataset[:, 1])\n",
    "\n",
    "# prepare data\n",
    "x_train = encode_sequences(ger_tokenizer, ger_length, train[:, 1])\n",
    "x_test = encode_sequences(ger_tokenizer, ger_length, test[:, 1])"
   ]
  },
  {
   "cell_type": "code",
   "execution_count": 5,
   "id": "1e9fc3e6",
   "metadata": {},
   "outputs": [],
   "source": [
    "# Loading the model created in training\n",
    "model = load_model('model3.h5')"
   ]
  },
  {
   "cell_type": "code",
   "execution_count": 6,
   "id": "851159cd",
   "metadata": {},
   "outputs": [],
   "source": [
    "# Evaluation Helper Functions\n",
    "\n",
    "# Maps an Integer to each Word\n",
    "def word_for_id(integer, tokenizer):\n",
    "    for word, index in tokenizer.word_index.items():\n",
    "        if index == integer:\n",
    "            return word\n",
    "    return None\n",
    "\n",
    "def predict_sequence(model, tokenizer, source):\n",
    "    prediction = model.predict(source, verbose=0)[0]\n",
    "    integers = [argmax(vector) for vector in prediction]\n",
    "    target = []\n",
    "    for i in integers:\n",
    "        word = word_for_id(i, tokenizer)\n",
    "        if word is None:\n",
    "            break\n",
    "        target.append(word)\n",
    "    return ' '.join(target)\n",
    "\n",
    "def evaluate_model(model, tokenizer, sources, raw_dataset):\n",
    "    actual, predicted = [], []\n",
    "    for i, source in enumerate(sources):\n",
    "        source = source.reshape((1, source.shape[0]))\n",
    "        translation = predict_sequence(model, eng_tokenizer, source)\n",
    "        raw_target, raw_src = raw_dataset[i]\n",
    "        if i < 10:\n",
    "            print('src=[%s], target=[%s], predicted=[%s]' % (raw_src, raw_target, translation))\n",
    "        actual.append([raw_target.split()])\n",
    "        predicted.append(translation.split())\n",
    "    \n",
    "    # Calculating BLEU score\n",
    "    print('BLEU-1: %f' % corpus_bleu(actual, predicted, weights=(1.0, 0, 0, 0)))\n",
    "    print('BLEU-2: %f' % corpus_bleu(actual, predicted, weights=(0.5, 0.5, 0, 0)))\n",
    "    print('BLEU-3: %f' % corpus_bleu(actual, predicted, weights=(0.3, 0.3, 0.3, 0)))\n",
    "    print('BLEU-4: %f' % corpus_bleu(actual, predicted, weights=(0.25, 0.25, 0.25, 0.25)))"
   ]
  },
  {
   "cell_type": "code",
   "execution_count": 7,
   "id": "c1df53a6",
   "metadata": {
    "scrolled": true
   },
   "outputs": [
    {
     "name": "stdout",
     "output_type": "stream",
     "text": [
      "train\n",
      "src=[morgen wetter wie aussehen morgen mittwoch siebte oktober], target=[und nun die wettervorhersage far morgen mittwoch den siebten oktober], predicted=[und nun die wettervorhersage far morgen montag den achten oktober]\n",
      "src=[wind wehen wind sturm nord sturm region orkan haben moeglich], target=[von dort sieht am nachmittag zum teil kraftiger regen heran oberhalb von vierhundert bis achthundert metern fallt schnee], predicted=[der wind weht bis bis bis bis bis frisch frisch frisch der der der sturmbaen]\n",
      "src=[jetzt wie aussehen wetter morgen donnerstag dreizehn august], target=[und nun die wettervorhersage far morgen donnerstag den dreizehnten august], predicted=[und nun die wettervorhersage far morgen mittwoch den zwalften august]\n",
      "src=[heute nacht schnee regen region suedost region auch schnee stark], target=[heute nacht regnet oder schneit es hier und da etwas im sadosten bayerns anfangs auch noch kraftiger], predicted=[heute nacht nacht es es im im im im im im im im und]\n",
      "src=[deutsch land sued tief kommen bis morgen abend kommen], target=[aber saddeutschland hat sich ein kleines tief gebildet das uns bis morgen abend richtung norden aberquert], predicted=[das tief aber aber aber morgen morgen und und und und und]\n",
      "src=[region regen dann verschwinden], target=[wir haben noch ein paar letzte regenschauer im astlichen bayern die ziehen in den nachsten stunden ab], predicted=[im regnet regnet regnet die die die]\n",
      "src=[winter wetter bleiben dann genau kalt luft ix wehen weiter schnee schneien], target=[das winterwetter werden wir nicht los denn wir liegen genau in der kaltluft aus dem norden und damit wird es auch weiterhin schneien bei uns], predicted=[und wird wird es ein ein ein ein und und und und und und und und und und und auch auch auch]\n",
      "src=[elf grad region sued bis zwei zwanzig grad region], target=[am tag elf grad bei dauerregen im saden bis zweiundzwanzig grad in der lausitz], predicted=[am tag grad grad grad im und und grad grad grad grad]\n",
      "src=[jetzt wetter morgen montag dreissig november], target=[und nun die wettervorhersage far morgen montag den dreiaigsten november], predicted=[und nun die wettervorhersage far morgen sonntag den dreiaigsten november]\n",
      "src=[nacht mehr klar dann nordwest mehr wolke], target=[in der nacht klart es verbreitet auf spater kommen im westen und norden wieder dichtere wolken auf], predicted=[in der nacht es es im im im im im im im]\n",
      "BLEU-1: 0.262368\n",
      "BLEU-2: 0.149190\n",
      "BLEU-3: 0.123302\n",
      "BLEU-4: 0.075498\n"
     ]
    }
   ],
   "source": [
    "print('train')\n",
    "evaluate_model(model, eng_tokenizer, x_train, train)"
   ]
  },
  {
   "cell_type": "code",
   "execution_count": 8,
   "id": "266d2bf7",
   "metadata": {},
   "outputs": [
    {
     "name": "stdout",
     "output_type": "stream",
     "text": [
      "test\n",
      "src=[dienstag nord fluss nebel ix sonne], target=[am dienstag im norden am oberrhein und an der donau oft zaher nebel sonst meist sonne], predicted=[am dienstag im im im und und und und und und]\n",
      "src=[tag drei bis neun grad region], target=[am tag dann drei grad bis neun grad], predicted=[am tag minus grad grad und und und und grad grad]\n",
      "src=[minus eins f insel minus zehn ost], target=[morgen minus ein grad auf den friesischen inseln minus zehn im osten], predicted=[am tag minus grad grad grad und minus minus plus grad grad]\n",
      "src=[das ist es zeigen bildschirm montag anfang viel wechselhaft kuehl kalt], target=[die neue woche beginnt wechselhaft und winterlich kalt], predicted=[die den neuen tagen tagen in in und wetter wetter wetter]\n",
      "src=[morgen schwach ix wehen ix wehen dann nord sturm], target=[morgen schwacher bis maaiger im norden frischer wind aus west bis sadwest an der see starmische baen], predicted=[morgen schwacher maaiger maaiger bis wind der der der bis bis bis bis]\n",
      "src=[schoen abend tschuess], target=[jetzt wansche ich ihnen noch einen schanen abend], predicted=[ich wansche noch noch schanen schanen]\n",
      "src=[hier heute nacht suedost frisch zehn elf grad], target=[bei uns wird es richtig frisch heute nacht im sadosten da sind es zehn elf grad etwa], predicted=[heute nacht heute nacht nacht nacht im im bis bis grad grad]\n",
      "src=[aussehen in kommend was kalt wetter bleiben in kommend], target=[die aussichten das winterwetter begleitet uns auch in den nachsten tagen], predicted=[die den nachsten tagen tagen tagen in und und auch]\n",
      "src=[heute nacht meistens klar region wolke besonders sued bisschen nebel morgen hart nebel], target=[heute nacht ist es verbreitet klar oder nur locker bewalkt besonders in der sadhalfte breiten sich einige nebelfelder aus die kannen sich morgen zum teil hartnackig halten], predicted=[heute nacht nacht es es klar klar klar im im im im im im klar klar klar klar klar klar nebel]\n",
      "src=[arm kanal hoch kommen deutsch land morgen nord mitte sonne da], target=[vom armelkanal zieht ein hoch nach deutschland das morgen im norden und in der mitte haufig far sonnenschein sorgt], predicted=[das tief aber aber morgen morgen morgen und und und und und und und und und und und und und]\n",
      "BLEU-1: 0.239052\n",
      "BLEU-2: 0.135916\n",
      "BLEU-3: 0.112247\n",
      "BLEU-4: 0.067657\n"
     ]
    }
   ],
   "source": [
    "print('test')\n",
    "evaluate_model(model, eng_tokenizer, x_test, test)"
   ]
  },
  {
   "cell_type": "code",
   "execution_count": null,
   "id": "f7cebc70",
   "metadata": {},
   "outputs": [],
   "source": []
  },
  {
   "cell_type": "code",
   "execution_count": null,
   "id": "6a8ce3de",
   "metadata": {},
   "outputs": [],
   "source": []
  },
  {
   "cell_type": "code",
   "execution_count": null,
   "id": "7a4d4cde",
   "metadata": {},
   "outputs": [],
   "source": []
  },
  {
   "cell_type": "code",
   "execution_count": null,
   "id": "a1b005f0",
   "metadata": {},
   "outputs": [],
   "source": []
  },
  {
   "cell_type": "code",
   "execution_count": null,
   "id": "f1e018b3",
   "metadata": {},
   "outputs": [],
   "source": []
  },
  {
   "cell_type": "code",
   "execution_count": null,
   "id": "5076122f",
   "metadata": {},
   "outputs": [],
   "source": []
  }
 ],
 "metadata": {
  "kernelspec": {
   "display_name": "Python 3 (ipykernel)",
   "language": "python",
   "name": "python3"
  },
  "language_info": {
   "codemirror_mode": {
    "name": "ipython",
    "version": 3
   },
   "file_extension": ".py",
   "mimetype": "text/x-python",
   "name": "python",
   "nbconvert_exporter": "python",
   "pygments_lexer": "ipython3",
   "version": "3.9.7"
  }
 },
 "nbformat": 4,
 "nbformat_minor": 5
}
