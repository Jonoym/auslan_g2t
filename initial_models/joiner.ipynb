{
 "cells": [
  {
   "cell_type": "code",
   "execution_count": null,
   "id": "39c88b55",
   "metadata": {},
   "outputs": [],
   "source": [
    "ds_type = \"dev\"\n",
    "\n",
    "gloss_filename = \"phoenix_\" + ds_type + \"_glosses.txt\"\n",
    "word_filename = \"phoenix_\" + ds_type +\"sentences.txt\"\n",
    "\n",
    "output_filename = \"phoenix_\" + ds_type + \".txt\""
   ]
  },
  {
   "cell_type": "code",
   "execution_count": null,
   "id": "038da79f",
   "metadata": {},
   "outputs": [],
   "source": [
    "glosses = open(gloss_filename, \"r\")\n",
    "words = open(word_filename, \"r\")\n",
    "\n",
    "glosses_string = glosses.read()\n",
    "gloss_sequence = glosses_string.split('\\n')\n",
    "\n",
    "words_string = words.read()\n",
    "words_sequence = words_string.split('\\n')"
   ]
  },
  {
   "cell_type": "code",
   "execution_count": null,
   "id": "955f5b32",
   "metadata": {},
   "outputs": [],
   "source": [
    "output_file = open(output_filename, \"w\")\n",
    "\n",
    "for i in range(0, len(gloss_sequence)):\n",
    "    output_file.write(f'{words_sequence[i]}\\t{gloss_sequence[i]}\\n')"
   ]
  },
  {
   "cell_type": "code",
   "execution_count": null,
   "id": "d4968a2b",
   "metadata": {},
   "outputs": [],
   "source": [
    "glosses.close()\n",
    "words.close()\n",
    "output_file.close()"
   ]
  },
  {
   "cell_type": "code",
   "execution_count": null,
   "id": "92831acb",
   "metadata": {},
   "outputs": [],
   "source": []
  }
 ],
 "metadata": {
  "kernelspec": {
   "display_name": "Python 3 (ipykernel)",
   "language": "python",
   "name": "python3"
  },
  "language_info": {
   "codemirror_mode": {
    "name": "ipython",
    "version": 3
   },
   "file_extension": ".py",
   "mimetype": "text/x-python",
   "name": "python",
   "nbconvert_exporter": "python",
   "pygments_lexer": "ipython3",
   "version": "3.9.7"
  }
 },
 "nbformat": 4,
 "nbformat_minor": 5
}
