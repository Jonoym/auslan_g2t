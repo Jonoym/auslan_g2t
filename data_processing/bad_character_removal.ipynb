{
 "cells": [
  {
   "cell_type": "code",
   "execution_count": null,
   "id": "d9adec64",
   "metadata": {},
   "outputs": [],
   "source": [
    "# Specify the path to your UTF-8 text file\n",
    "file_path = \"elan_cleaned_retained_lit.txt\"\n",
    "\n",
    "# Open the file in binary mode to read its content\n",
    "with open(file_path, 'rb') as file:\n",
    "    # Read the entire file content as bytes\n",
    "    content = file.read()\n",
    "\n",
    "# Attempt to decode the content as UTF-8 and catch any decoding errors\n",
    "try:\n",
    "    decoded_content = content.decode('utf-8')\n",
    "except UnicodeDecodeError as e:\n",
    "    # Print information about the error\n",
    "    print(f\"UnicodeDecodeError: {e}\")\n",
    "    # Extract the byte offset where the error occurred\n",
    "    error_byte_offset = e.start\n",
    "    # Find the approximate line and column where the error occurred\n",
    "    lines = content.decode('utf-8', errors='replace').splitlines()\n",
    "    line_num = 1\n",
    "    byte_count = 0\n",
    "    for line in lines:\n",
    "        byte_count += len(line.encode('utf-8'))\n",
    "        if byte_count >= error_byte_offset:\n",
    "            break\n",
    "        line_num += 1\n",
    "    column_num = error_byte_offset - (byte_count - len(line.encode('utf-8')))\n",
    "\n",
    "    # Print the line and column numbers\n",
    "    print(f\"Error occurred at Line {line_num}, Column {column_num}:\")\n",
    "    print(lines[line_num - 1])"
   ]
  },
  {
   "cell_type": "code",
   "execution_count": null,
   "id": "5aaad6f0",
   "metadata": {},
   "outputs": [],
   "source": [
    "decoded_content"
   ]
  },
  {
   "cell_type": "code",
   "execution_count": null,
   "id": "b1bf383b",
   "metadata": {},
   "outputs": [],
   "source": [
    "write_file = open(\"elan_dataset_lit_raw_decoded.txt\", \"w+\")\n",
    "\n",
    "write_file.write(decoded_content)"
   ]
  },
  {
   "cell_type": "code",
   "execution_count": null,
   "id": "e4ff2119",
   "metadata": {},
   "outputs": [],
   "source": [
    "decoded_content[183016 - 10:183016 + 10]"
   ]
  },
  {
   "cell_type": "code",
   "execution_count": null,
   "id": "98d182b5",
   "metadata": {},
   "outputs": [],
   "source": []
  },
  {
   "cell_type": "code",
   "execution_count": null,
   "id": "c0c1df07",
   "metadata": {},
   "outputs": [],
   "source": []
  },
  {
   "cell_type": "code",
   "execution_count": null,
   "id": "5042220b",
   "metadata": {},
   "outputs": [],
   "source": []
  }
 ],
 "metadata": {
  "kernelspec": {
   "display_name": "Python 3 (ipykernel)",
   "language": "python",
   "name": "python3"
  },
  "language_info": {
   "codemirror_mode": {
    "name": "ipython",
    "version": 3
   },
   "file_extension": ".py",
   "mimetype": "text/x-python",
   "name": "python",
   "nbconvert_exporter": "python",
   "pygments_lexer": "ipython3",
   "version": "3.9.7"
  }
 },
 "nbformat": 4,
 "nbformat_minor": 5
}
