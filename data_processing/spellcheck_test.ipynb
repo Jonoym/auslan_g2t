{
 "cells": [
  {
   "cell_type": "code",
   "execution_count": null,
   "id": "6724dabc",
   "metadata": {},
   "outputs": [],
   "source": [
    "from spellchecker import SpellChecker\n"
   ]
  },
  {
   "cell_type": "code",
   "execution_count": null,
   "id": "8dbab149",
   "metadata": {},
   "outputs": [],
   "source": [
    "filename = 'elan_cleaned.txt'\n",
    "\n",
    "file = open(filename, \"r\")\n",
    "\n",
    "lines = file.readlines()"
   ]
  },
  {
   "cell_type": "code",
   "execution_count": null,
   "id": "15f80a55",
   "metadata": {},
   "outputs": [],
   "source": [
    "spell = SpellChecker()\n",
    "\n",
    "def spell_check(sequence, upper):\n",
    "    sequence = sequence.split(\" \")\n",
    "    output = []\n",
    "    for word in sequence:\n",
    "        if upper:\n",
    "            if spell.correction(word):\n",
    "                output.append(spell.correction(word).upper())\n",
    "            else:\n",
    "                output.append(word)\n",
    "        else:\n",
    "            if spell.correction(word):\n",
    "                output.append(spell.correction(word))\n",
    "            else:\n",
    "                output.append(word)\n",
    "    return \" \".join(output)"
   ]
  },
  {
   "cell_type": "code",
   "execution_count": null,
   "id": "1a42c6e7",
   "metadata": {},
   "outputs": [],
   "source": [
    "for line in lines:\n",
    "    parts = line.split(\"\\t\")\n",
    "    \n",
    "    new_sentence = []\n",
    "    new_sequence = []\n",
    "    \n",
    "#     for word in parts[0].split(\" \"):\n",
    "#         if (word == '?'):\n",
    "#             new_sentence.append('?')\n",
    "#         else:\n",
    "#             word = word.strip('\\'.,!?:;\"\\n').lower()\n",
    "#             if spell.correction(word) != word:\n",
    "#                 print(word)\n",
    "#                 print(spell.correction(word))\n",
    "#             new_sentence.append(spell.correction(word))\n",
    "        \n",
    "    for token in parts[1].split(\" \"):\n",
    "        token = token.strip('\\'.,!?:;\"\\n').upper()\n",
    "        if spell.correction(token) != token and token != \"DOWNPIPE\":\n",
    "            print(token)\n",
    "            print(spell.correction(token))\n",
    "        new_sequence.append(spell.correction(token))\n",
    "    \n",
    "#     print(parts[0])\n",
    "#     print(\" \".join(new_sentence))"
   ]
  },
  {
   "cell_type": "code",
   "execution_count": null,
   "id": "ce3944ed",
   "metadata": {},
   "outputs": [],
   "source": [
    "spell.correction(\"'wolf'\")\n"
   ]
  },
  {
   "cell_type": "code",
   "execution_count": null,
   "id": "6dbd6c87",
   "metadata": {},
   "outputs": [],
   "source": []
  }
 ],
 "metadata": {
  "kernelspec": {
   "display_name": "Python 3 (ipykernel)",
   "language": "python",
   "name": "python3"
  },
  "language_info": {
   "codemirror_mode": {
    "name": "ipython",
    "version": 3
   },
   "file_extension": ".py",
   "mimetype": "text/x-python",
   "name": "python",
   "nbconvert_exporter": "python",
   "pygments_lexer": "ipython3",
   "version": "3.9.7"
  }
 },
 "nbformat": 4,
 "nbformat_minor": 5
}
