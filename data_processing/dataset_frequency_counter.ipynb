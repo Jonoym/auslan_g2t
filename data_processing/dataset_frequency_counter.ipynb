{
 "cells": [
  {
   "cell_type": "code",
   "execution_count": null,
   "id": "282b49bc",
   "metadata": {},
   "outputs": [],
   "source": [
    "import re\n",
    "import matplotlib.pyplot as plt\n",
    "import numpy as np\n",
    "import seaborn as sns\n"
   ]
  },
  {
   "cell_type": "code",
   "execution_count": null,
   "id": "fae432b7",
   "metadata": {},
   "outputs": [],
   "source": [
    "# filename = 'elan_cleaned_spellcheck_frequent.txt'"
   ]
  },
  {
   "cell_type": "code",
   "execution_count": null,
   "id": "435396e7",
   "metadata": {},
   "outputs": [],
   "source": [
    "filename = 'elan_cleaned_spellcheck.txt'"
   ]
  },
  {
   "cell_type": "code",
   "execution_count": null,
   "id": "753cf492",
   "metadata": {},
   "outputs": [],
   "source": [
    "file = open(filename, \"r\")\n",
    "\n",
    "lines = file.readlines()"
   ]
  },
  {
   "cell_type": "code",
   "execution_count": null,
   "id": "fc61132a",
   "metadata": {},
   "outputs": [],
   "source": [
    "sentence_dict = {}\n",
    "token_dict = {}\n",
    "\n",
    "for line in lines:\n",
    "    parts = line.split(\"\\t\")\n",
    "    \n",
    "    for word in parts[0].split(\" \"):\n",
    "        word = word.strip('.,!:;\"').lower()\n",
    "        if word in sentence_dict:\n",
    "            sentence_dict[word] += 1\n",
    "        else:\n",
    "            sentence_dict[word] = 1\n",
    "        \n",
    "    for token in parts[1].split(\" \"):\n",
    "        token = token.strip('.,!:;\"\\n').upper()\n",
    "        if token in token_dict:\n",
    "            token_dict[token] += 1\n",
    "        else:\n",
    "            token_dict[token] = 1"
   ]
  },
  {
   "cell_type": "code",
   "execution_count": null,
   "id": "25de07d4",
   "metadata": {},
   "outputs": [],
   "source": [
    "sorted_sentence_dict = sorted(sentence_dict.items(), key=lambda x: x[1], reverse=True)\n",
    "sorted_token_dict = sorted(token_dict.items(), key=lambda x: x[1], reverse=True)\n"
   ]
  },
  {
   "cell_type": "code",
   "execution_count": null,
   "id": "b1c63bdc",
   "metadata": {},
   "outputs": [],
   "source": [
    "for word, freq in sorted_sentence_dict:\n",
    "    print(f'{word}: {freq}')"
   ]
  },
  {
   "cell_type": "code",
   "execution_count": null,
   "id": "38a381b6",
   "metadata": {},
   "outputs": [],
   "source": [
    "for token, freq in sorted_token_dict:\n",
    "    print(f'{token}: {freq}')"
   ]
  },
  {
   "cell_type": "code",
   "execution_count": null,
   "id": "1c29d4df",
   "metadata": {},
   "outputs": [],
   "source": [
    "def plot_hist(values, heights, title, ylabel, xlabel):\n",
    "    \n",
    "    \n",
    "    plt.figure(figsize=(14,7)) # Make it 14x7 inch\n",
    "    plt.style.use('seaborn-whitegrid') # nice and clean grid\n",
    "\n",
    "    plt.bar(values, heights, facecolor='#2ab0ff', edgecolor='#e0e0e0', linewidth=0.5, alpha=0.7)\n",
    "\n",
    "    n = len(values)\n",
    "\n",
    "    # Good old loop. Choose colormap of your taste\n",
    "    for i in range(len(patches)):\n",
    "        patches[i].set_facecolor(plt.cm.viridis(n[i]/max(n)))\n",
    "\n",
    "\n",
    "    plt.xlabel(xlabel)\n",
    "    plt.ylabel(ylabel)\n",
    "    plt.title(title)\n",
    "    plt.show()"
   ]
  },
  {
   "cell_type": "code",
   "execution_count": null,
   "id": "e6efd729",
   "metadata": {},
   "outputs": [],
   "source": [
    "values = []\n",
    "heights = []\n",
    "\n",
    "for token, freq in sorted_token_dict:\n",
    "    values.append(token)\n",
    "    heights.append(freq)"
   ]
  },
  {
   "cell_type": "code",
   "execution_count": null,
   "id": "3411cdab",
   "metadata": {},
   "outputs": [],
   "source": [
    "plot_hist(values, heights, \"\", \"\", \"\")"
   ]
  },
  {
   "cell_type": "code",
   "execution_count": null,
   "id": "ea5aa9a2",
   "metadata": {},
   "outputs": [],
   "source": []
  },
  {
   "cell_type": "code",
   "execution_count": null,
   "id": "2849caab",
   "metadata": {},
   "outputs": [],
   "source": []
  },
  {
   "cell_type": "code",
   "execution_count": null,
   "id": "125a7350",
   "metadata": {},
   "outputs": [],
   "source": []
  },
  {
   "cell_type": "code",
   "execution_count": null,
   "id": "9d40f668",
   "metadata": {},
   "outputs": [],
   "source": []
  }
 ],
 "metadata": {
  "kernelspec": {
   "display_name": "Python 3 (ipykernel)",
   "language": "python",
   "name": "python3"
  },
  "language_info": {
   "codemirror_mode": {
    "name": "ipython",
    "version": 3
   },
   "file_extension": ".py",
   "mimetype": "text/x-python",
   "name": "python",
   "nbconvert_exporter": "python",
   "pygments_lexer": "ipython3",
   "version": "3.9.7"
  }
 },
 "nbformat": 4,
 "nbformat_minor": 5
}
