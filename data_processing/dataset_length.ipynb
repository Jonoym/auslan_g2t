{
 "cells": [
  {
   "cell_type": "code",
   "execution_count": null,
   "id": "b6d55e29",
   "metadata": {},
   "outputs": [],
   "source": [
    "filename = 'elan_cleaned_spellcheck_frequent.txt'"
   ]
  },
  {
   "cell_type": "code",
   "execution_count": null,
   "id": "2622ab4b",
   "metadata": {},
   "outputs": [],
   "source": [
    "file = open(filename, \"r\")\n",
    "\n",
    "lines = file.readlines()"
   ]
  },
  {
   "cell_type": "code",
   "execution_count": null,
   "id": "19f35361",
   "metadata": {},
   "outputs": [],
   "source": [
    "sentence_dict = {}\n",
    "token_dict = {}\n",
    "\n",
    "for line in lines:\n",
    "    parts = line.split(\"\\t\")\n",
    "    \n",
    "    for word in parts[0].split(\" \"):\n",
    "        word = word.strip('.,!:;\"').lower()\n",
    "        if word in sentence_dict:\n",
    "            sentence_dict[word] += 1\n",
    "        else:\n",
    "            sentence_dict[word] = 1\n",
    "        \n",
    "    for token in parts[1].split(\" \"):\n",
    "        token = token.strip('.,!:;\"\\n').upper()\n",
    "        if token in token_dict:\n",
    "            token_dict[token] += 1\n",
    "        else:\n",
    "            token_dict[token] = 1"
   ]
  },
  {
   "cell_type": "code",
   "execution_count": null,
   "id": "d43d6d4e",
   "metadata": {},
   "outputs": [],
   "source": [
    "sorted_sentence_dict = sorted(sentence_dict.items(), key=lambda x: x[1], reverse=True)\n",
    "sorted_token_dict = sorted(token_dict.items(), key=lambda x: x[1], reverse=True)"
   ]
  },
  {
   "cell_type": "code",
   "execution_count": null,
   "id": "b437b169",
   "metadata": {},
   "outputs": [],
   "source": [
    "for word, freq in sentence_dict.items():\n",
    "    print(f'{word}: {freq}')"
   ]
  },
  {
   "cell_type": "code",
   "execution_count": null,
   "id": "205e51d9",
   "metadata": {},
   "outputs": [],
   "source": [
    "for token, freq in sorted_token_dict:\n",
    "    print(f'{token}: {freq}')"
   ]
  },
  {
   "cell_type": "code",
   "execution_count": null,
   "id": "e8d51d6b",
   "metadata": {},
   "outputs": [],
   "source": []
  }
 ],
 "metadata": {
  "kernelspec": {
   "display_name": "Python 3 (ipykernel)",
   "language": "python",
   "name": "python3"
  },
  "language_info": {
   "codemirror_mode": {
    "name": "ipython",
    "version": 3
   },
   "file_extension": ".py",
   "mimetype": "text/x-python",
   "name": "python",
   "nbconvert_exporter": "python",
   "pygments_lexer": "ipython3",
   "version": "3.9.7"
  }
 },
 "nbformat": 4,
 "nbformat_minor": 5
}
