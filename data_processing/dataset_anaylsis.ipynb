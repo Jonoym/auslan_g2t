{
 "cells": [
  {
   "cell_type": "code",
   "execution_count": 63,
   "id": "e507ec82",
   "metadata": {},
   "outputs": [],
   "source": [
    "import re\n",
    "import matplotlib.pyplot as plt\n",
    "import numpy as np\n",
    "import seaborn as sns\n"
   ]
  },
  {
   "cell_type": "code",
   "execution_count": 64,
   "id": "41707ddd",
   "metadata": {},
   "outputs": [],
   "source": [
    "def count_words(string):\n",
    "    return 1 + string.count(' ')"
   ]
  },
  {
   "cell_type": "code",
   "execution_count": 89,
   "id": "e3aad4a6",
   "metadata": {},
   "outputs": [],
   "source": [
    "filename = \"elan_cleaned_merged.txt\""
   ]
  },
  {
   "cell_type": "code",
   "execution_count": 90,
   "id": "845be438",
   "metadata": {},
   "outputs": [],
   "source": [
    "file = open(filename, 'r', encoding=\"utf-8\")\n",
    "lines = file.readlines()"
   ]
  },
  {
   "cell_type": "code",
   "execution_count": 91,
   "id": "3c5efccb",
   "metadata": {},
   "outputs": [],
   "source": [
    "# lines = []\n",
    "# for line in file.readlines():\n",
    "#     x = line.strip()\n",
    "#     print(x)\n",
    "#     lines.append(x)"
   ]
  },
  {
   "cell_type": "code",
   "execution_count": 92,
   "id": "7aea160d",
   "metadata": {},
   "outputs": [],
   "source": [
    "n = 0\n",
    "for line in lines:\n",
    "    parts = line.split('\\t')\n",
    "    n += abs(count_words(parts[0]) - count_words(parts[1]))"
   ]
  },
  {
   "cell_type": "code",
   "execution_count": 93,
   "id": "3e57627e",
   "metadata": {},
   "outputs": [
    {
     "data": {
      "text/plain": [
       "4.331569664902998"
      ]
     },
     "execution_count": 93,
     "metadata": {},
     "output_type": "execute_result"
    }
   ],
   "source": [
    "n / len(lines)"
   ]
  },
  {
   "cell_type": "code",
   "execution_count": 94,
   "id": "c786d6b5",
   "metadata": {},
   "outputs": [],
   "source": [
    "gloss_set = set()\n",
    "word_set = set()\n",
    "\n",
    "for line in lines:\n",
    "    parts = line.split(\"\\t\")\n",
    "    words = parts[0].split(\" \")\n",
    "    for word in words:\n",
    "        word_set.add(word)\n",
    "    glosses = parts[1].split(\" \")\n",
    "    for gloss in glosses:\n",
    "        gloss_set.add(gloss)"
   ]
  },
  {
   "cell_type": "code",
   "execution_count": 95,
   "id": "a91eb5d6",
   "metadata": {},
   "outputs": [
    {
     "data": {
      "text/plain": [
       "2049"
      ]
     },
     "execution_count": 95,
     "metadata": {},
     "output_type": "execute_result"
    }
   ],
   "source": [
    "len(gloss_set)"
   ]
  },
  {
   "cell_type": "code",
   "execution_count": 96,
   "id": "633938e7",
   "metadata": {},
   "outputs": [
    {
     "data": {
      "text/plain": [
       "1839"
      ]
     },
     "execution_count": 96,
     "metadata": {},
     "output_type": "execute_result"
    }
   ],
   "source": [
    "len(word_set)"
   ]
  },
  {
   "cell_type": "code",
   "execution_count": null,
   "id": "2afda3cf",
   "metadata": {},
   "outputs": [],
   "source": []
  },
  {
   "cell_type": "code",
   "execution_count": null,
   "id": "a0c6c6f6",
   "metadata": {},
   "outputs": [],
   "source": []
  },
  {
   "cell_type": "code",
   "execution_count": null,
   "id": "4d944bef",
   "metadata": {},
   "outputs": [],
   "source": []
  },
  {
   "cell_type": "code",
   "execution_count": null,
   "id": "c1f19121",
   "metadata": {},
   "outputs": [],
   "source": []
  }
 ],
 "metadata": {
  "kernelspec": {
   "display_name": "Python 3 (ipykernel)",
   "language": "python",
   "name": "python3"
  },
  "language_info": {
   "codemirror_mode": {
    "name": "ipython",
    "version": 3
   },
   "file_extension": ".py",
   "mimetype": "text/x-python",
   "name": "python",
   "nbconvert_exporter": "python",
   "pygments_lexer": "ipython3",
   "version": "3.9.7"
  }
 },
 "nbformat": 4,
 "nbformat_minor": 5
}
