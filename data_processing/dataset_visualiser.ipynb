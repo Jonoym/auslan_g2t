{
 "cells": [
  {
   "cell_type": "code",
   "execution_count": null,
   "id": "e80d2ca6",
   "metadata": {},
   "outputs": [],
   "source": [
    "import matplotlib.pyplot as plt\n",
    "import seaborn as sns"
   ]
  },
  {
   "cell_type": "code",
   "execution_count": null,
   "id": "4277121f",
   "metadata": {},
   "outputs": [],
   "source": [
    "# filename = 'elan_cleaned.txt'\n",
    "filename = '../Phoenix/phoenix_master.txt'"
   ]
  },
  {
   "cell_type": "code",
   "execution_count": null,
   "id": "255c0bf1",
   "metadata": {},
   "outputs": [],
   "source": [
    "file = open(filename, \"r\")\n",
    "\n",
    "lines = file.readlines()"
   ]
  },
  {
   "cell_type": "code",
   "execution_count": null,
   "id": "edce29a8",
   "metadata": {},
   "outputs": [],
   "source": [
    "def splitter (lines):\n",
    "\n",
    "    sentence_dict = {}\n",
    "    token_dict = {}\n",
    "\n",
    "    for line in lines:\n",
    "        parts = line.split(\"\\t\")\n",
    "\n",
    "        for word in parts[0].split(\" \"):\n",
    "            word = word.strip('.,!:;\"').lower()\n",
    "            if word in sentence_dict:\n",
    "                sentence_dict[word] += 1\n",
    "            else:\n",
    "                sentence_dict[word] = 1\n",
    "\n",
    "        for token in parts[1].split(\" \"):\n",
    "            token = token.strip('.,!:;\"\\n').upper()\n",
    "            if token in token_dict:\n",
    "                token_dict[token] += 1\n",
    "            else:\n",
    "                token_dict[token] = 1\n",
    "    \n",
    "    return sentence_dict, token_dict\n",
    "\n",
    "def plot_bar(data, xlabel, ylabel, title):\n",
    "    cmap = sns.color_palette(\"blend:#7AB,#EDA\", n_colors=len(data))\n",
    "        \n",
    "    plt.figure(figsize=(16,8)) # Make it 14x7 inch\n",
    "    plt.style.use('seaborn-whitegrid') # nice and clean grid\n",
    "    \n",
    "    ax = sns.barplot(x=list(range(len(data))), y=data, palette=cmap, linewidth=0.5, alpha=0.7)\n",
    "    \n",
    "    for i, val in enumerate(data):\n",
    "        ax.patches[i].set_facecolor(cmap[i])\n",
    "        \n",
    "    for i, val in enumerate(data):\n",
    "        ax.patches[i].set_facecolor(plt.cm.viridis(i / len(data)))\n",
    "    \n",
    "    ax.set(xticklabels=[])\n",
    "\n",
    "    plt.xlabel(xlabel)\n",
    "    plt.ylabel(ylabel)\n",
    "    plt.title(title)\n",
    "    plt.show()"
   ]
  },
  {
   "cell_type": "code",
   "execution_count": null,
   "id": "9d7f4957",
   "metadata": {},
   "outputs": [],
   "source": [
    "sentence_dict, token_dict = splitter(lines)"
   ]
  },
  {
   "cell_type": "code",
   "execution_count": null,
   "id": "976b4bf7",
   "metadata": {},
   "outputs": [],
   "source": [
    "sorted_sentence_dict = sorted(sentence_dict.items(), key=lambda x: x[1], reverse=True)\n",
    "sorted_token_dict = sorted(token_dict.items(), key=lambda x: x[1], reverse=True)"
   ]
  },
  {
   "cell_type": "code",
   "execution_count": null,
   "id": "51de0938",
   "metadata": {},
   "outputs": [],
   "source": [
    "heights = []\n",
    "for token, freq in sorted_token_dict:\n",
    "    heights.append(freq)\n",
    "plot_bar(heights[0:100], \"Tokens\", \"Frequency\", \"Frequency of Token Appearances in the PHOENIX Dataset\")"
   ]
  },
  {
   "cell_type": "code",
   "execution_count": null,
   "id": "5013b438",
   "metadata": {},
   "outputs": [],
   "source": [
    "heights = []\n",
    "for token, freq in sorted_sentence_dict:\n",
    "    heights.append(freq)\n",
    "plot_bar(heights[0:100], \"Words\", \"Frequency\", \"Frequency of Word Appearances in the PHOENIX Dataset\")"
   ]
  },
  {
   "cell_type": "code",
   "execution_count": null,
   "id": "53bea961",
   "metadata": {},
   "outputs": [],
   "source": []
  },
  {
   "cell_type": "code",
   "execution_count": null,
   "id": "bed3b064",
   "metadata": {},
   "outputs": [],
   "source": []
  },
  {
   "cell_type": "code",
   "execution_count": null,
   "id": "0365cb3c",
   "metadata": {},
   "outputs": [],
   "source": []
  },
  {
   "cell_type": "code",
   "execution_count": null,
   "id": "2d58d1dc",
   "metadata": {},
   "outputs": [],
   "source": []
  },
  {
   "cell_type": "code",
   "execution_count": null,
   "id": "cfba29dd",
   "metadata": {},
   "outputs": [],
   "source": []
  },
  {
   "cell_type": "code",
   "execution_count": null,
   "id": "36986ec7",
   "metadata": {},
   "outputs": [],
   "source": [
    "def plot_hist(sentences, index, bins, title, ylabel, xlabel):\n",
    "    sentence_lengths = []\n",
    "\n",
    "    for line in sentences:\n",
    "        sentence = line.split(\"\\t\")\n",
    "        count = sentence[index].count(\" \")\n",
    "        if count > 100:\n",
    "            continue\n",
    "        sentence_lengths.append(count + 1)    \n",
    "    \n",
    "    plt.figure(figsize=(14,7)) # Make it 14x7 inch\n",
    "    plt.style.use('seaborn-whitegrid') # nice and clean grid\n",
    "\n",
    "    n, bins, patches = plt.hist(sentence_lengths, bins=bins, facecolor='#2ab0ff', edgecolor='#e0e0e0', linewidth=0.5, alpha=0.7)\n",
    "\n",
    "    n = n.astype('int') # it MUST be integer\n",
    "    \n",
    "    print(n)\n",
    "\n",
    "    # Good old loop. Choose colormap of your taste\n",
    "    for i in range(len(patches)):\n",
    "        patches[i].set_facecolor(plt.cm.viridis(n[i]/max(n)))\n",
    "\n",
    "\n",
    "    plt.xlabel(xlabel)\n",
    "    plt.ylabel(ylabel)\n",
    "    plt.title(title)\n",
    "    plt.show()"
   ]
  },
  {
   "cell_type": "code",
   "execution_count": null,
   "id": "9d3ba199",
   "metadata": {},
   "outputs": [],
   "source": [
    "filename = \"elan_cleaned.txt\"\n",
    "# filename = '../Phoenix/phoenix_master.txt'"
   ]
  },
  {
   "cell_type": "code",
   "execution_count": null,
   "id": "0afcda23",
   "metadata": {},
   "outputs": [],
   "source": [
    "file = open(filename, \"r\")\n",
    "\n",
    "lines = file.readlines()"
   ]
  },
  {
   "cell_type": "code",
   "execution_count": null,
   "id": "71a41067",
   "metadata": {},
   "outputs": [],
   "source": [
    "plot_hist(lines, 0, 26, \"Histogram of Parsed ELAN Dataset Sentences by Length\", \"Frequency\", \"Sentence Lengths\")"
   ]
  },
  {
   "cell_type": "code",
   "execution_count": null,
   "id": "74c83038",
   "metadata": {},
   "outputs": [],
   "source": [
    "plot_hist(lines, 1, 26, \"Histogram of Parsed ELAN Dataset Token Sequences by Length\", \"Frequency\", \"Token Sequence Lengths\")"
   ]
  },
  {
   "cell_type": "code",
   "execution_count": null,
   "id": "bde2f650",
   "metadata": {},
   "outputs": [],
   "source": []
  },
  {
   "cell_type": "code",
   "execution_count": null,
   "id": "f5e86af0",
   "metadata": {},
   "outputs": [],
   "source": []
  },
  {
   "cell_type": "code",
   "execution_count": null,
   "id": "5f4c7224",
   "metadata": {},
   "outputs": [],
   "source": []
  },
  {
   "cell_type": "code",
   "execution_count": null,
   "id": "61efa393",
   "metadata": {},
   "outputs": [],
   "source": []
  },
  {
   "cell_type": "code",
   "execution_count": null,
   "id": "e92a4a1b",
   "metadata": {},
   "outputs": [],
   "source": []
  },
  {
   "cell_type": "code",
   "execution_count": null,
   "id": "038974bc",
   "metadata": {},
   "outputs": [],
   "source": []
  }
 ],
 "metadata": {
  "kernelspec": {
   "display_name": "Python 3 (ipykernel)",
   "language": "python",
   "name": "python3"
  },
  "language_info": {
   "codemirror_mode": {
    "name": "ipython",
    "version": 3
   },
   "file_extension": ".py",
   "mimetype": "text/x-python",
   "name": "python",
   "nbconvert_exporter": "python",
   "pygments_lexer": "ipython3",
   "version": "3.9.7"
  }
 },
 "nbformat": 4,
 "nbformat_minor": 5
}
