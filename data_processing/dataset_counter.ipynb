{
 "cells": [
  {
   "cell_type": "code",
   "execution_count": null,
   "id": "3e0355ec",
   "metadata": {},
   "outputs": [],
   "source": [
    "file = open(\"elan_dataset_merged.txt\")"
   ]
  },
  {
   "cell_type": "code",
   "execution_count": null,
   "id": "ed05951a",
   "metadata": {},
   "outputs": [],
   "source": [
    "lines = file.readlines()"
   ]
  },
  {
   "cell_type": "code",
   "execution_count": null,
   "id": "4672797b",
   "metadata": {},
   "outputs": [],
   "source": [
    "for line in lines:\n",
    "    print(line)"
   ]
  },
  {
   "cell_type": "code",
   "execution_count": null,
   "id": "8d3227a4",
   "metadata": {},
   "outputs": [],
   "source": [
    "len(lines)"
   ]
  },
  {
   "cell_type": "code",
   "execution_count": null,
   "id": "5730e229",
   "metadata": {},
   "outputs": [],
   "source": [
    "word_count = 0\n",
    "word_set = set()\n",
    "token_count = 0\n",
    "token_set = set()\n",
    "for line in lines:\n",
    "    parts = line.split(\"\\t\")\n",
    "    sentence = parts[0]\n",
    "    sequence = parts[1]\n",
    "    \n",
    "    words = sentence.split(\" \")\n",
    "    for word in words:\n",
    "        word_count += 1\n",
    "        word_set.add(word)\n",
    "        \n",
    "    tokens = sequence.split(\" \")\n",
    "    for token in tokens:\n",
    "        token_count += 1\n",
    "        token_set.add(token)\n",
    "        \n",
    "gloss_set = {}\n",
    "word2_set = {}\n",
    "\n",
    "for line in lines:\n",
    "    parts = line.split(\"\\t\")\n",
    "    words = parts[0].split(\" \")\n",
    "    for word in words:\n",
    "        if word in word2_set:\n",
    "            word2_set[word] += 1\n",
    "        else:\n",
    "            word2_set[word] = 1\n",
    "    glosses = parts[1].split(\" \")\n",
    "    for gloss in glosses:\n",
    "        if gloss in gloss_set:\n",
    "            gloss_set[word] += 1\n",
    "        else:\n",
    "            gloss_set[word] = 1"
   ]
  },
  {
   "cell_type": "code",
   "execution_count": null,
   "id": "d6c7560d",
   "metadata": {},
   "outputs": [],
   "source": [
    "word_count"
   ]
  },
  {
   "cell_type": "code",
   "execution_count": null,
   "id": "8db46650",
   "metadata": {},
   "outputs": [],
   "source": [
    "len(word_set)"
   ]
  },
  {
   "cell_type": "code",
   "execution_count": null,
   "id": "7f4d2ff4",
   "metadata": {},
   "outputs": [],
   "source": [
    "token_count"
   ]
  },
  {
   "cell_type": "code",
   "execution_count": null,
   "id": "347af8f8",
   "metadata": {},
   "outputs": [],
   "source": [
    "len(token_set)"
   ]
  },
  {
   "cell_type": "code",
   "execution_count": null,
   "id": "7d37f9a8",
   "metadata": {},
   "outputs": [],
   "source": [
    "len(lines)"
   ]
  },
  {
   "cell_type": "code",
   "execution_count": null,
   "id": "be1e3f34",
   "metadata": {},
   "outputs": [],
   "source": [
    "# sorted_occurrences = dict(sorted(word2_set.items(), key=lambda item: -item[1]))"
   ]
  },
  {
   "cell_type": "code",
   "execution_count": null,
   "id": "95cd567d",
   "metadata": {},
   "outputs": [],
   "source": [
    "# one_freq = 0\n",
    "# two_freq = 0"
   ]
  },
  {
   "cell_type": "code",
   "execution_count": null,
   "id": "526c1587",
   "metadata": {},
   "outputs": [],
   "source": [
    "# for key in sorted_occurrences:\n",
    "#     if sorted_occurrences[key] == 1:\n",
    "#         one_freq += 1\n",
    "#     if sorted_occurrences[key] == 2:\n",
    "#         two_freq += 1\n",
    "#     print(key + \" \" + str(sorted_occurrences[key]))"
   ]
  },
  {
   "cell_type": "code",
   "execution_count": null,
   "id": "09fd308f",
   "metadata": {},
   "outputs": [],
   "source": [
    "# one_freq"
   ]
  },
  {
   "cell_type": "code",
   "execution_count": null,
   "id": "878c1c42",
   "metadata": {},
   "outputs": [],
   "source": [
    "# two_freq"
   ]
  },
  {
   "cell_type": "code",
   "execution_count": null,
   "id": "6ef196f1",
   "metadata": {},
   "outputs": [],
   "source": []
  },
  {
   "cell_type": "code",
   "execution_count": null,
   "id": "8a9a5ee7",
   "metadata": {},
   "outputs": [],
   "source": []
  },
  {
   "cell_type": "code",
   "execution_count": null,
   "id": "0de649d8",
   "metadata": {},
   "outputs": [],
   "source": []
  }
 ],
 "metadata": {
  "kernelspec": {
   "display_name": "Python 3 (ipykernel)",
   "language": "python",
   "name": "python3"
  },
  "language_info": {
   "codemirror_mode": {
    "name": "ipython",
    "version": 3
   },
   "file_extension": ".py",
   "mimetype": "text/x-python",
   "name": "python",
   "nbconvert_exporter": "python",
   "pygments_lexer": "ipython3",
   "version": "3.9.7"
  }
 },
 "nbformat": 4,
 "nbformat_minor": 5
}
